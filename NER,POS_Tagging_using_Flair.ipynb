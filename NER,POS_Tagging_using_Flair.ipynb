{
  "nbformat": 4,
  "nbformat_minor": 0,
  "metadata": {
    "colab": {
      "name": "NER,POS Tagging using Flair.ipynb",
      "version": "0.3.2",
      "provenance": [],
      "include_colab_link": true
    },
    "kernelspec": {
      "name": "python3",
      "display_name": "Python 3"
    },
    "accelerator": "GPU"
  },
  "cells": [
    {
      "cell_type": "markdown",
      "metadata": {
        "id": "view-in-github",
        "colab_type": "text"
      },
      "source": [
        "<a href=\"https://colab.research.google.com/github/WuraolaOyewusi/Web-Scrapping-Named-Entity-Recognition-Part-of-Speech-Tagging-in-Few-Lines-of-Python-Code/blob/master/NER%2CPOS_Tagging_using_Flair.ipynb\" target=\"_parent\"><img src=\"https://colab.research.google.com/assets/colab-badge.svg\" alt=\"Open In Colab\"/></a>"
      ]
    },
    {
      "metadata": {
        "id": "0qFuPFoFfEOm",
        "colab_type": "code",
        "colab": {}
      },
      "cell_type": "code",
      "source": [
        "from bs4 import BeautifulSoup\n",
        "import requests\n",
        "from pprint import pprint\n",
        "text = requests.get('https://en.wikipedia.org/wiki/Nigeria').text\n",
        "soup = BeautifulSoup(text,'lxml')\n",
        "#pprint(soup.prettify())"
      ],
      "execution_count": 0,
      "outputs": []
    },
    {
      "metadata": {
        "id": "1pFQ0auDnHCr",
        "colab_type": "code",
        "colab": {
          "base_uri": "https://localhost:8080/",
          "height": 35
        },
        "outputId": "ce7cb1a5-f70e-4e32-c1e7-24efe8c4cd66"
      },
      "cell_type": "code",
      "source": [
        "paragraphs = soup.find_all('p')\n",
        "len(paragraphs)"
      ],
      "execution_count": 6,
      "outputs": [
        {
          "output_type": "execute_result",
          "data": {
            "text/plain": [
              "182"
            ]
          },
          "metadata": {
            "tags": []
          },
          "execution_count": 6
        }
      ]
    },
    {
      "metadata": {
        "id": "mFecm0-H3E-0",
        "colab_type": "code",
        "colab": {}
      },
      "cell_type": "code",
      "source": [
        "content= [paragraph.get_text() for paragraph in paragraphs]\n",
        "#pprint(content)"
      ],
      "execution_count": 0,
      "outputs": []
    },
    {
      "metadata": {
        "id": "7cBCURMTv6Dp",
        "colab_type": "code",
        "colab": {
          "base_uri": "https://localhost:8080/",
          "height": 35
        },
        "outputId": "7fe78eae-4449-4b37-9f32-e6c96a680e28"
      },
      "cell_type": "code",
      "source": [
        "len(content)"
      ],
      "execution_count": 4,
      "outputs": [
        {
          "output_type": "execute_result",
          "data": {
            "text/plain": [
              "182"
            ]
          },
          "metadata": {
            "tags": []
          },
          "execution_count": 4
        }
      ]
    },
    {
      "metadata": {
        "id": "pukfBL2ywIQp",
        "colab_type": "code",
        "colab": {
          "base_uri": "https://localhost:8080/",
          "height": 35
        },
        "outputId": "3e1ce130-2c9d-4597-8151-cc28c315d3a9"
      },
      "cell_type": "code",
      "source": [
        "type(content)"
      ],
      "execution_count": 5,
      "outputs": [
        {
          "output_type": "execute_result",
          "data": {
            "text/plain": [
              "list"
            ]
          },
          "metadata": {
            "tags": []
          },
          "execution_count": 5
        }
      ]
    },
    {
      "metadata": {
        "id": "C0PP9hYcxKB_",
        "colab_type": "code",
        "colab": {}
      },
      "cell_type": "code",
      "source": [
        "content= ''.join(content)        #convert content from list to string\n",
        "#pprint(content)"
      ],
      "execution_count": 0,
      "outputs": []
    },
    {
      "metadata": {
        "id": "3jbrH9s1x7Aa",
        "colab_type": "code",
        "colab": {}
      },
      "cell_type": "code",
      "source": [
        "!pip install flair"
      ],
      "execution_count": 0,
      "outputs": []
    },
    {
      "metadata": {
        "id": "0xOYZJf7yBJy",
        "colab_type": "code",
        "colab": {}
      },
      "cell_type": "code",
      "source": [
        "from flair.data import Sentence\n",
        "from flair.models import SequenceTagger"
      ],
      "execution_count": 0,
      "outputs": []
    },
    {
      "metadata": {
        "id": "asGO9DIpytRv",
        "colab_type": "code",
        "colab": {}
      },
      "cell_type": "code",
      "source": [
        "from segtok.segmenter import split_single\n",
        "sentences = [Sentence(sent, use_tokenizer=True) for sent in split_single(content)]"
      ],
      "execution_count": 0,
      "outputs": []
    },
    {
      "metadata": {
        "id": "5a75B4Xmzfxt",
        "colab_type": "code",
        "colab": {}
      },
      "cell_type": "code",
      "source": [
        "#pprint(sentences)"
      ],
      "execution_count": 0,
      "outputs": []
    },
    {
      "metadata": {
        "id": "Q3lu9Sa3AhFh",
        "colab_type": "code",
        "colab": {}
      },
      "cell_type": "code",
      "source": [
        "NERR_Tagger = SequenceTagger.load('ner-ontonotes')  #or load(ner-ontonotes-fast)(smaller version)\n",
        "NERR_prediction = NERR_Tagger.predict(sentences)\n",
        "for sentence in NERR_prediction:\n",
        "    print(sentence.to_tagged_string())\n"
      ],
      "execution_count": 0,
      "outputs": []
    },
    {
      "metadata": {
        "id": "CPtC6Gjz-gZ9",
        "colab_type": "code",
        "colab": {}
      },
      "cell_type": "code",
      "source": [
        "POS_Tagger = SequenceTagger.load('pos')  #load(pos-fast)\n",
        "POS_prediction = POS_Tagger.predict(sentences)\n",
        "for sentence in POS_prediction:\n",
        "    print(sentence.to_tagged_string())\n"
      ],
      "execution_count": 0,
      "outputs": []
    },
    {
      "metadata": {
        "id": "vMP7iHVaAK2B",
        "colab_type": "code",
        "colab": {}
      },
      "cell_type": "code",
      "source": [
        "Frame_Tagger = SequenceTagger.load('frame')  #load(frame-fast)\n",
        "Frame_prediction = Frame_Tagger.predict(sentences)\n",
        "for sentence in Frame_prediction:\n",
        "    print(sentence.to_tagged_string())\n"
      ],
      "execution_count": 0,
      "outputs": []
    },
    {
      "metadata": {
        "id": "xR9ie7EUm3oS",
        "colab_type": "code",
        "colab": {}
      },
      "cell_type": "code",
      "source": [
        "NER_Tagger = SequenceTagger.load('ner')  # load('ner-fast')\n",
        "NER_prediction = NER_Tagger.predict(sentences)\n",
        "for sentence in NER_prediction:\n",
        "    print(sentence.to_tagged_string())"
      ],
      "execution_count": 0,
      "outputs": []
    },
    {
      "metadata": {
        "id": "mEY2j160scIw",
        "colab_type": "code",
        "colab": {}
      },
      "cell_type": "code",
      "source": [
        "from flair.models import TextClassifier\n",
        "\n",
        "classifier = TextClassifier.load('en-sentiment')\n",
        "\n",
        "classification = classifier.predict(sentences)\n",
        "for sentiment in classification:\n",
        "    print(sentiment,sentiment.labels)"
      ],
      "execution_count": 0,
      "outputs": []
    }
  ]
}